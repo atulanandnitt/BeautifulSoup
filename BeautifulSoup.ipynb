{
 "cells": [
  {
   "cell_type": "code",
   "execution_count": 34,
   "metadata": {
    "collapsed": true
   },
   "outputs": [],
   "source": [
    "from bs4 import BeautifulSoup"
   ]
  },
  {
   "cell_type": "code",
   "execution_count": 35,
   "metadata": {
    "collapsed": true
   },
   "outputs": [],
   "source": [
    "import requests"
   ]
  },
  {
   "cell_type": "code",
   "execution_count": 36,
   "metadata": {
    "collapsed": true
   },
   "outputs": [],
   "source": [
    "import csv"
   ]
  },
  {
   "cell_type": "code",
   "execution_count": 37,
   "metadata": {
    "collapsed": true
   },
   "outputs": [],
   "source": [
    "source = requests.get('http://coreyms.com').text"
   ]
  },
  {
   "cell_type": "code",
   "execution_count": 38,
   "metadata": {
    "collapsed": true
   },
   "outputs": [],
   "source": [
    "soup= BeautifulSoup(source,'lxml')"
   ]
  },
  {
   "cell_type": "code",
   "execution_count": 39,
   "metadata": {
    "collapsed": true
   },
   "outputs": [],
   "source": [
    "writeMe = open('data_from_webpage.csv','w')"
   ]
  },
  {
   "cell_type": "code",
   "execution_count": 40,
   "metadata": {},
   "outputs": [],
   "source": [
    "csv_writer1 =csv.writer(writeMe)"
   ]
  },
  {
   "cell_type": "code",
   "execution_count": 41,
   "metadata": {},
   "outputs": [
    {
     "data": {
      "text/plain": [
       "28"
      ]
     },
     "execution_count": 41,
     "metadata": {},
     "output_type": "execute_result"
    }
   ],
   "source": [
    "csv_writer1.writerow(['headline','summary','videoLink'])"
   ]
  },
  {
   "cell_type": "code",
   "execution_count": 42,
   "metadata": {},
   "outputs": [],
   "source": [
    "for article in soup.find_all('article'):\n",
    "#    article = soup.find('article')    \n",
    "    headline = article.h2.a.text\n",
    "    #print(\"\\n\",headline)\n",
    "    \n",
    "    summary = article.find('div',class_='entry-content').p.text\n",
    "    #print(summary) \n",
    "    \n",
    "    try:\n",
    "        vid_src2=article.find('iframe',class_='youtube-player')['src']\n",
    "        #print(\"vid_src2 :\",vid_src2,\"type of vid_src2\" ,type(vid_src2),\"\\n\")\n",
    "        \n",
    "        vid_id_withExtraDetails= vid_src2.split('/')[4]\n",
    "        #print(vid_id_withExtraDetails,\"\\n\")\n",
    "        vid_id= vid_id_withExtraDetails.split('?')[0]\n",
    "        #print(vid_id)\n",
    "        \n",
    "        yt_link=f'https://youtube.com/watch?v={vid_id}'\n",
    "        \n",
    "        #print(article.prettify())\n",
    "    except Exception as e:\n",
    "         yt_link=None\n",
    "    \n",
    "    #print(yt_link)\n",
    "    \n",
    "    csv_writer1.writerow([headline,summary,yt_link])\n",
    "    \n",
    "writeMe.close()    "
   ]
  },
  {
   "cell_type": "code",
   "execution_count": null,
   "metadata": {
    "collapsed": true
   },
   "outputs": [],
   "source": []
  },
  {
   "cell_type": "code",
   "execution_count": null,
   "metadata": {
    "collapsed": true
   },
   "outputs": [],
   "source": []
  }
 ],
 "metadata": {
  "kernelspec": {
   "display_name": "Python 3",
   "language": "python",
   "name": "python3"
  },
  "language_info": {
   "codemirror_mode": {
    "name": "ipython",
    "version": 3
   },
   "file_extension": ".py",
   "mimetype": "text/x-python",
   "name": "python",
   "nbconvert_exporter": "python",
   "pygments_lexer": "ipython3",
   "version": "3.6.3"
  }
 },
 "nbformat": 4,
 "nbformat_minor": 2
}
